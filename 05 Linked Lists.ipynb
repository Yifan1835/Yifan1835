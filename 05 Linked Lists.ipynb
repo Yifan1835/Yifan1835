{
 "cells": [
  {
   "cell_type": "markdown",
   "metadata": {},
   "source": [
    "# Linked Lists"
   ]
  },
  {
   "cell_type": "markdown",
   "metadata": {},
   "source": [
    "A linked list is a data structure where the data elements are stored in a linear order. Linked lists provide efficient storage of data in linear order through pointer structures. Pointers are used to store the memory address of data items. They store the data and the location, and the location stores the position of the next data item in the memory. \n",
    "\n",
    "Index:\n",
    "  + Arrays\n",
    "  + Introducding linked lists\n",
    "  + Singly linked lists\n",
    "  + Doubly linked lists\n",
    "  + Circular lists\n",
    "  + Practical applications of linked lists"
   ]
  },
  {
   "cell_type": "markdown",
   "metadata": {},
   "source": [
    "## 1. Arrays"
   ]
  },
  {
   "cell_type": "markdown",
   "metadata": {},
   "source": [
    "An Array stores the data of the same data type and each data element in the array is stored in contiguous memoey locations.   \n",
    "Storing multiple data values of the same type makes it easier and faster to compute the position of any element in the array using **offset** and **base address**.\n",
    "\n",
    "Disadvantages:  \n",
    "It is difficult to allot a large block of memory locations id the data to be stored in the array is large and the system has low memory. The array data structure has a static size that has to be declared at the time of creation.  \n",
    "In addition, the insertion and deletion operations in array data structures are slow as compared to linked lists. "
   ]
  },
  {
   "cell_type": "markdown",
   "metadata": {},
   "source": [
    "##   2. Introducding linked lists"
   ]
  },
  {
   "cell_type": "markdown",
   "metadata": {},
   "source": [
    "1. The data elements are stored in memory in different locations that are connected through pointers. Each data element points to the next data element and so on until the last element, which points to None\n",
    "2. The length of the list can increase or decrease during the execution od the program.\n"
   ]
  },
  {
   "cell_type": "markdown",
   "metadata": {},
   "source": [
    "![linkedlist1](figures/Linkedlist1.png)"
   ]
  },
  {
   "cell_type": "markdown",
   "metadata": {},
   "source": [
    "### Nodes and pointers"
   ]
  },
  {
   "cell_type": "markdown",
   "metadata": {},
   "source": [
    "A node is a container of data, together with one or more links to other nodes where a link is a pointer.  "
   ]
  },
  {
   "cell_type": "code",
   "execution_count": 9,
   "metadata": {},
   "outputs": [],
   "source": [
    "class Node:\n",
    "    def __init__(self, data = None):\n",
    "        self.data = data\n",
    "        self.next = None"
   ]
  },
  {
   "cell_type": "markdown",
   "metadata": {},
   "source": [
    "## 3. Singly linked lists"
   ]
  },
  {
   "cell_type": "markdown",
   "metadata": {},
   "source": [
    "A linked list (also called a singly linked list) contains a number of nodes in which each node contains data and a pointer that links to the next node. The link of the last node in the list is None, which indicates the end of the list."
   ]
  },
  {
   "cell_type": "markdown",
   "metadata": {},
   "source": [
    "![linkedlist2](figures/Linkedlist2.png)"
   ]
  },
  {
   "cell_type": "markdown",
   "metadata": {},
   "source": [
    "### Creating and traversing"
   ]
  },
  {
   "cell_type": "code",
   "execution_count": 13,
   "metadata": {},
   "outputs": [
    {
     "name": "stdout",
     "output_type": "stream",
     "text": [
      "eggs\n",
      "ham\n",
      "spam\n"
     ]
    }
   ],
   "source": [
    "# create three nodes, n1, n2, n3, that store three strings\n",
    "n1 = Node('eggs')\n",
    "n2 = Node('ham')\n",
    "n3 = Node('spam')\n",
    "\n",
    "# next, link the nodes sequencially to form the linked list.\n",
    "n1.next = n2\n",
    "n2.next = n3\n",
    "\n",
    "# traverse the linked list\n",
    "current = n1\n",
    "while current:\n",
    "    print(current.data)\n",
    "    current = current.next"
   ]
  },
  {
   "cell_type": "markdown",
   "metadata": {},
   "source": [
    "### Improving list creation and traversal"
   ]
  },
  {
   "cell_type": "code",
   "execution_count": 16,
   "metadata": {},
   "outputs": [],
   "source": [
    "def iter(self):\n",
    "    current = self.head\n",
    "    while current:\n",
    "        val = current.data\n",
    "        current = current.next\n",
    "        yield val\n",
    "        # Here the yield keyword is used to return from a function while saving the states of its local variables to \n",
    "        # enable the function to resume from where it left off. \n",
    "        # Whenever the function is called again, the execution starts from the last yield statement.\n",
    "        # Any function that contains a yield keyword is termed a generator"
   ]
  },
  {
   "cell_type": "code",
   "execution_count": 27,
   "metadata": {},
   "outputs": [],
   "source": [
    "class SinglyLinkedList:\n",
    "    def __init__(self):\n",
    "        self.head = None\n",
    "        self.size = 0\n",
    "\n",
    "    # appending items to the end of a list\n",
    "    def append(self, data):\n",
    "        node = Node(data)\n",
    "        if self.head is None:\n",
    "            self.head = node\n",
    "        else:\n",
    "            current = self.head\n",
    "            while current.next:\n",
    "                current = current.next\n",
    "            current.next = node"
   ]
  },
  {
   "cell_type": "code",
   "execution_count": 29,
   "metadata": {},
   "outputs": [],
   "source": [
    "words = SinglyLinkedList()\n",
    "words.append('egg')\n",
    "words.append('ham')\n",
    "words.append('spam')"
   ]
  },
  {
   "cell_type": "code",
   "execution_count": 31,
   "metadata": {},
   "outputs": [
    {
     "name": "stdout",
     "output_type": "stream",
     "text": [
      "egg\n",
      "ham\n",
      "spam\n"
     ]
    }
   ],
   "source": [
    "current = words.head\n",
    "while current:\n",
    "    print(current.data)\n",
    "    current = current.next\n",
    "    \n",
    "    # still not very efficient when appending"
   ]
  },
  {
   "cell_type": "code",
   "execution_count": null,
   "metadata": {},
   "outputs": [],
   "source": [
    "class SinglyLinkedList:\n",
    "    def __init__(self):\n",
    "        self.head = None\n",
    "        self.tail = None\n",
    "        self.size = 0\n",
    "\n",
    "    # appending items to the end of a list\n",
    "    def append(self, data):\n",
    "        node = Node(data)\n",
    "        if self.tail:\n",
    "            self.tail.next = node\n",
    "            self.tail = node\n",
    "        else:\n",
    "            self.head = node\n",
    "            self.tail = node"
   ]
  }
 ],
 "metadata": {
  "kernelspec": {
   "display_name": "Python 3",
   "language": "python",
   "name": "python3"
  },
  "language_info": {
   "codemirror_mode": {
    "name": "ipython",
    "version": 3
   },
   "file_extension": ".py",
   "mimetype": "text/x-python",
   "name": "python",
   "nbconvert_exporter": "python",
   "pygments_lexer": "ipython3",
   "version": "3.8.5"
  }
 },
 "nbformat": 4,
 "nbformat_minor": 4
}
