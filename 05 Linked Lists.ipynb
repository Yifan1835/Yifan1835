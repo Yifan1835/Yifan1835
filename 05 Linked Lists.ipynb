{
 "cells": [
  {
   "cell_type": "markdown",
   "metadata": {},
   "source": [
    "# Linked Lists"
   ]
  },
  {
   "cell_type": "markdown",
   "metadata": {},
   "source": [
    "A linked list is a data structure where the data elements are stored in a linear order. Linked lists provide efficient storage of data in linear order through pointer structures. Pointers are used to store the memory address of data items. They store the data and the location, and the location stores the position of the next data item in the memory. \n",
    "\n",
    "Index:\n",
    "  + Arrays\n",
    "  + Introducding linked lists\n",
    "  + Singly linked lists\n",
    "  + Doubly linked lists\n",
    "  + Circular lists\n",
    "  + Practical applications of linked lists"
   ]
  },
  {
   "cell_type": "markdown",
   "metadata": {},
   "source": [
    "## 1. Arrays"
   ]
  },
  {
   "cell_type": "markdown",
   "metadata": {},
   "source": [
    "An Array stores the data of the same data type and each data element in the array is stored in contiguous memoey locations.   \n",
    "Storing multiple data values of the same type makes it easier and faster to compute the position of any element in the array using **offset** and **base address**.\n",
    "\n",
    "Disadvantages:  \n",
    "It is difficult to allot a large block of memory locations id the data to be stored in the array is large and the system has low memory. The array data structure has a static size that has to be declared at the time of creation.  \n",
    "In addition, the insertion and deletion operations in array data structures are slow as compared to linked lists. "
   ]
  },
  {
   "cell_type": "markdown",
   "metadata": {},
   "source": [
    "##   2. Introducding linked lists"
   ]
  },
  {
   "cell_type": "markdown",
   "metadata": {},
   "source": [
    "1. The data elements are stored in memory in different locations that are connected through pointers. Each data element points to the next data element and so on until the last element, which points to None\n",
    "2. The length of the list can increase or decrease during the execution od the program.\n"
   ]
  },
  {
   "cell_type": "markdown",
   "metadata": {},
   "source": [
    "![linkedlist1](figures/Linkedlist1.png)"
   ]
  },
  {
   "cell_type": "markdown",
   "metadata": {},
   "source": [
    "### Nodes and pointers"
   ]
  },
  {
   "cell_type": "markdown",
   "metadata": {},
   "source": [
    "A node is a container of data, together with one or more links to other nodes where a link is a pointer.  "
   ]
  },
  {
   "cell_type": "code",
   "execution_count": 1,
   "metadata": {},
   "outputs": [],
   "source": [
    "class Node:\n",
    "    def __init__(self, data = None):\n",
    "        self.data = data\n",
    "        self.next = None"
   ]
  },
  {
   "cell_type": "markdown",
   "metadata": {},
   "source": [
    "## 3. Singly linked lists"
   ]
  },
  {
   "cell_type": "markdown",
   "metadata": {},
   "source": [
    "A linked list (also called a singly linked list) contains a number of nodes in which each node contains data and a pointer that links to the next node. The link of the last node in the list is None, which indicates the end of the list."
   ]
  },
  {
   "cell_type": "markdown",
   "metadata": {},
   "source": [
    "![linkedlist2](figures/Linkedlist2.png)"
   ]
  },
  {
   "cell_type": "markdown",
   "metadata": {},
   "source": [
    "### Creating and traversing"
   ]
  },
  {
   "cell_type": "code",
   "execution_count": 2,
   "metadata": {},
   "outputs": [
    {
     "name": "stdout",
     "output_type": "stream",
     "text": [
      "eggs\n",
      "ham\n",
      "spam\n"
     ]
    }
   ],
   "source": [
    "# create three nodes, n1, n2, n3, that store three strings\n",
    "n1 = Node('eggs')\n",
    "n2 = Node('ham')\n",
    "n3 = Node('spam')\n",
    "\n",
    "# next, link the nodes sequencially to form the linked list.\n",
    "n1.next = n2\n",
    "n2.next = n3\n",
    "\n",
    "# traverse the linked list\n",
    "current = n1\n",
    "while current:\n",
    "    print(current.data)\n",
    "    current = current.next"
   ]
  },
  {
   "cell_type": "markdown",
   "metadata": {},
   "source": [
    "### Improving list creation and traversal"
   ]
  },
  {
   "cell_type": "code",
   "execution_count": 3,
   "metadata": {},
   "outputs": [],
   "source": [
    "def iter(self):\n",
    "    current = self.head\n",
    "    while current:\n",
    "        val = current.data\n",
    "        current = current.next\n",
    "        yield val\n",
    "        # Here the yield keyword is used to return from a function while saving the states of its local variables to \n",
    "        # enable the function to resume from where it left off. \n",
    "        # Whenever the function is called again, the execution starts from the last yield statement.\n",
    "        # Any function that contains a yield keyword is termed a generator"
   ]
  },
  {
   "cell_type": "code",
   "execution_count": 4,
   "metadata": {},
   "outputs": [],
   "source": [
    "class SinglyLinkedList:\n",
    "    def __init__(self):\n",
    "        self.head = None\n",
    "        self.size = 0\n",
    "\n",
    "    # appending items to the end of a list\n",
    "    def append(self, data):\n",
    "        node = Node(data)\n",
    "        if self.head is None:\n",
    "            self.head = node\n",
    "        else:\n",
    "            current = self.head\n",
    "            while current.next:\n",
    "                current = current.next\n",
    "            current.next = node"
   ]
  },
  {
   "cell_type": "code",
   "execution_count": 5,
   "metadata": {},
   "outputs": [],
   "source": [
    "words = SinglyLinkedList()\n",
    "words.append('egg')\n",
    "words.append('ham')\n",
    "words.append('spam')"
   ]
  },
  {
   "cell_type": "code",
   "execution_count": 6,
   "metadata": {},
   "outputs": [
    {
     "name": "stdout",
     "output_type": "stream",
     "text": [
      "egg\n",
      "ham\n",
      "spam\n"
     ]
    }
   ],
   "source": [
    "current = words.head\n",
    "while current:\n",
    "    print(current.data)\n",
    "    current = current.next\n",
    "    \n",
    "    # still not very efficient when appending"
   ]
  },
  {
   "cell_type": "code",
   "execution_count": 12,
   "metadata": {},
   "outputs": [],
   "source": [
    "class SinglyLinkedList:\n",
    "    def __init__(self):\n",
    "        self.head = None\n",
    "        self.tail = None\n",
    "        self.size = 0\n",
    "\n",
    "    # appending items to the end of a list, O(n) -> O(1)\n",
    "    def append(self, data):\n",
    "        node = Node(data)\n",
    "        if self.tail:\n",
    "            self.tail.next = node\n",
    "            self.tail = node\n",
    "        else:\n",
    "            self.head = node\n",
    "            self.tail = node"
   ]
  },
  {
   "cell_type": "code",
   "execution_count": 13,
   "metadata": {},
   "outputs": [
    {
     "name": "stdout",
     "output_type": "stream",
     "text": [
      "egg\n",
      "ham\n",
      "spam\n"
     ]
    }
   ],
   "source": [
    "words = SinglyLinkedList()\n",
    "words.append('egg')\n",
    "words.append('ham')\n",
    "words.append('spam')\n",
    "\n",
    "current = words.head\n",
    "while current:\n",
    "    print(current.data)\n",
    "    current = current.next"
   ]
  },
  {
   "cell_type": "markdown",
   "metadata": {},
   "source": [
    "### Appending items at intermediate positions"
   ]
  },
  {
   "cell_type": "markdown",
   "metadata": {},
   "source": [
    "When we want to insert a node in between two existing nodes, all we have to do is to update two links.  \n",
    "The previous node points to the new node, and the new node should point to the successor of the previous node."
   ]
  },
  {
   "cell_type": "markdown",
   "metadata": {},
   "source": [
    "![linkedlist3](figures/Linkedlist3.png)"
   ]
  },
  {
   "cell_type": "code",
   "execution_count": 55,
   "metadata": {},
   "outputs": [],
   "source": [
    "class SinglyLinkedList:\n",
    "    def __init__(self):\n",
    "        self.head = None\n",
    "        self.tail = None\n",
    "        self.size = 0\n",
    "    def append(self, data):\n",
    "        node = Node(data)\n",
    "        if self.tail:\n",
    "            self.tail.next = node\n",
    "            self.tail = node\n",
    "        else:\n",
    "            self.head = node\n",
    "            self.tail = node\n",
    "            \n",
    "    # appending items to the end of a list, O(n) -> O(1)\n",
    "    def append_at_a_location(self, data, index):\n",
    "        current = self.head\n",
    "        prev = self.head\n",
    "        node = Node(data)\n",
    "        count = 1\n",
    "        while current:\n",
    "            # we have to update the head node if index is 1 \n",
    "            if index == 1:\n",
    "                node.next = current\n",
    "                self.head = node\n",
    "                print(count)\n",
    "                return\n",
    "            elif index == count:\n",
    "                node.next = current\n",
    "                prev.next = node\n",
    "                return\n",
    "            # update the pointers\n",
    "            count += 1\n",
    "            prev = current\n",
    "            current = current.next\n",
    "        if count < index:\n",
    "            print(\"The list has less number of elements\")\n",
    "        # appending items to the end of a list, O(n) -> O(1)\n",
    "        \n",
    "            \n",
    "    def search(self, data):\n",
    "        for node in self.iter():\n",
    "            if data == node:\n",
    "                return True\n",
    "        return False\n",
    "    \n",
    "    def iter(self):\n",
    "        current = self.head\n",
    "        while current:\n",
    "            val = current.data\n",
    "            current = current.next\n",
    "            yield val\n",
    "    \n",
    "    def size(self):\n",
    "        count = 0\n",
    "        current = self.head\n",
    "        while current:\n",
    "            count += 1\n",
    "            current = current.next\n",
    "        return count\n",
    "    \n",
    "    def delete(self, data):\n",
    "        current = self.head\n",
    "        prev = self.head\n",
    "        while current:\n",
    "            if current.data == data:\n",
    "                if current == self.head:\n",
    "                    self.head = current.next\n",
    "                else:\n",
    "                    prev.next = current.next\n",
    "                self.size -= 1\n",
    "                return\n",
    "            prev = current\n",
    "            current = current.next\n",
    "            \n",
    "    def clear(self):\n",
    "        self.tail = None\n",
    "        self.head = None"
   ]
  },
  {
   "cell_type": "code",
   "execution_count": 52,
   "metadata": {},
   "outputs": [
    {
     "name": "stdout",
     "output_type": "stream",
     "text": [
      "egg\n",
      "new\n",
      "ham\n",
      "spam\n"
     ]
    }
   ],
   "source": [
    "words = SinglyLinkedList()\n",
    "words.append('egg')\n",
    "words.append('ham')\n",
    "words.append('spam')\n",
    "\n",
    "words.append_at_a_location('new', 2)\n",
    "current = words.head\n",
    "while current:\n",
    "    print(current.data)\n",
    "    current = current.next"
   ]
  },
  {
   "cell_type": "markdown",
   "metadata": {},
   "source": [
    "### Querying a list"
   ]
  },
  {
   "cell_type": "markdown",
   "metadata": {},
   "source": [
    "####  Searching an element in a list"
   ]
  },
  {
   "cell_type": "code",
   "execution_count": 32,
   "metadata": {},
   "outputs": [],
   "source": [
    "def search(self, data):\n",
    "    for node in self.iter():\n",
    "        if data == node:\n",
    "            return True\n",
    "    return False"
   ]
  },
  {
   "cell_type": "code",
   "execution_count": 44,
   "metadata": {},
   "outputs": [
    {
     "name": "stdout",
     "output_type": "stream",
     "text": [
      "False\n",
      "True\n"
     ]
    }
   ],
   "source": [
    "print(words.search('sspam'))\n",
    "print(words.search('spam'))"
   ]
  },
  {
   "cell_type": "markdown",
   "metadata": {},
   "source": [
    "####  Getting the size of the list"
   ]
  },
  {
   "cell_type": "code",
   "execution_count": 46,
   "metadata": {},
   "outputs": [],
   "source": [
    "def size(self):\n",
    "    count = 0\n",
    "    current = self.head\n",
    "    while current:\n",
    "        count += 1\n",
    "        current = current.next\n",
    "    return count"
   ]
  },
  {
   "cell_type": "markdown",
   "metadata": {},
   "source": [
    "### Deleting items"
   ]
  },
  {
   "cell_type": "code",
   "execution_count": 48,
   "metadata": {},
   "outputs": [],
   "source": [
    "def delete(self, data):\n",
    "    current = self.head\n",
    "    prev = self.head\n",
    "    while current:\n",
    "        if current.data == data:\n",
    "            if current == self.head:\n",
    "                self.head = current.next\n",
    "            else:\n",
    "                prev.next = current.next\n",
    "            self.size -= 1\n",
    "            return\n",
    "        prev = current\n",
    "        current = current.next\n",
    "        # O(n)"
   ]
  },
  {
   "cell_type": "code",
   "execution_count": 54,
   "metadata": {},
   "outputs": [
    {
     "name": "stdout",
     "output_type": "stream",
     "text": [
      "egg\n",
      "new\n",
      "spam\n"
     ]
    }
   ],
   "source": [
    "words.delete('ham')\n",
    "current = words.head\n",
    "while current:\n",
    "    print(current.data)\n",
    "    current = current.next"
   ]
  },
  {
   "cell_type": "markdown",
   "metadata": {},
   "source": [
    "### Clearing a list"
   ]
  },
  {
   "cell_type": "code",
   "execution_count": 56,
   "metadata": {},
   "outputs": [],
   "source": [
    "def clear(self):\n",
    "    self.tail = None\n",
    "    self.head = None"
   ]
  },
  {
   "cell_type": "markdown",
   "metadata": {},
   "source": [
    "## 4. Doubly Linked Lists"
   ]
  },
  {
   "cell_type": "markdown",
   "metadata": {},
   "source": [
    "In a doubly linked list, we have two pointers-- a pointer to the next node and a pointer to the previous node.   \n",
    "Doubly linked lists can be traversed in any direction. A node in a doubly linked list can be easily referred to by its previous node whenever required without having a variable to keep track of that node.   \n"
   ]
  },
  {
   "cell_type": "markdown",
   "metadata": {},
   "source": [
    "### Creating and traversing"
   ]
  },
  {
   "cell_type": "code",
   "execution_count": 58,
   "metadata": {},
   "outputs": [],
   "source": [
    "class Node:\n",
    "    def __init__(self, data = None, next = None, prev = None):\n",
    "        self.data = data\n",
    "        self.next = next\n",
    "        self.prev = prev"
   ]
  },
  {
   "cell_type": "code",
   "execution_count": 64,
   "metadata": {},
   "outputs": [],
   "source": [
    "class DoublyLinkedList:\n",
    "    def __init__(self):\n",
    "        self.head = None\n",
    "        self.tail = None\n",
    "        self.count = 0\n",
    "        \n",
    "    def append_at_a_location(self, data):\n",
    "        current  = self.head\n",
    "        prev = self.head\n",
    "        new_node = Node(data, None, None)\n",
    "        while current:\n",
    "            if current.data == data:\n",
    "                new_node.prev = prev\n",
    "                new_node.next = current\n",
    "                prev.next = new_node\n",
    "                current.prev = new_node\n",
    "            prev = current\n",
    "            current = current.next\n",
    "        \n",
    "    def append(self, data):\n",
    "        new_node = Node(data, None, None)\n",
    "        if self.head is None:\n",
    "            self.head = new_node\n",
    "            self.tail = new_node\n",
    "        else:\n",
    "            new_node.prev = self.tail\n",
    "            self.tail.next = new_node\n",
    "            self.tail = new_node"
   ]
  },
  {
   "cell_type": "markdown",
   "metadata": {},
   "source": [
    "### Appending items"
   ]
  },
  {
   "cell_type": "markdown",
   "metadata": {},
   "source": [
    "1. At the beginning of the list\n",
    "2. At the end of the list\n",
    "3. At an intermeidate position in the list"
   ]
  },
  {
   "cell_type": "code",
   "execution_count": 67,
   "metadata": {},
   "outputs": [
    {
     "name": "stdout",
     "output_type": "stream",
     "text": [
      "egg\n",
      "ham\n",
      "ham\n",
      "spam\n"
     ]
    }
   ],
   "source": [
    "# only interpret 3. At an intermeidate position in the list\n",
    "# For the beginning and the end are the same. First whether or not have head node, if no, make it as the head/tail\n",
    "# if yes, new_node.prev = head, head.next = node_node, head = new_node, count += 1\n",
    "\n",
    "def append_at_a_location(self, data):\n",
    "    current  = self.head\n",
    "    prev = self.head\n",
    "    new_node = Node(data, None, None)\n",
    "    while current:\n",
    "        if current.data == data:\n",
    "            new_node.prev = prev\n",
    "            new_node.next = current\n",
    "            prev.next = new_node\n",
    "            current.prev = new_node\n",
    "        prev = current\n",
    "        current = current.next\n",
    "\n",
    "words = DoublyLinkedList()\n",
    "words.append('egg')\n",
    "words.append('ham')\n",
    "words.append('spam')\n",
    "words.append_at_a_location('ham')\n",
    "current = words.head\n",
    "while current:\n",
    "    print(current.data)\n",
    "    current = current.next"
   ]
  },
  {
   "cell_type": "markdown",
   "metadata": {},
   "source": [
    "### Querying a list"
   ]
  },
  {
   "cell_type": "code",
   "execution_count": null,
   "metadata": {},
   "outputs": [],
   "source": []
  }
 ],
 "metadata": {
  "kernelspec": {
   "display_name": "Python 3",
   "language": "python",
   "name": "python3"
  },
  "language_info": {
   "codemirror_mode": {
    "name": "ipython",
    "version": 3
   },
   "file_extension": ".py",
   "mimetype": "text/x-python",
   "name": "python",
   "nbconvert_exporter": "python",
   "pygments_lexer": "ipython3",
   "version": "3.8.5"
  }
 },
 "nbformat": 4,
 "nbformat_minor": 4
}
