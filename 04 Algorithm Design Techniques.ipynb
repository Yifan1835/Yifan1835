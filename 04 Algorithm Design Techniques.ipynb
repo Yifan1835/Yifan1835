{
 "cells": [
  {
   "cell_type": "markdown",
   "metadata": {},
   "source": [
    "# Algorithm Design Techniques"
   ]
  },
  {
   "cell_type": "markdown",
   "metadata": {},
   "source": [
    "## 1. Recursion"
   ]
  },
  {
   "cell_type": "code",
   "execution_count": 2,
   "metadata": {},
   "outputs": [
    {
     "name": "stdout",
     "output_type": "stream",
     "text": [
      "24\n"
     ]
    }
   ],
   "source": [
    "def factorial(n):\n",
    "    # test for a base case\n",
    "    if n == 0:\n",
    "        return 1\n",
    "    else:\n",
    "    # make a calculation and a recursive call\n",
    "        return n*factorial(n-1)\n",
    "print(factorial(4))"
   ]
  },
  {
   "cell_type": "markdown",
   "metadata": {},
   "source": [
    "## 2. Divide and conquer"
   ]
  },
  {
   "cell_type": "markdown",
   "metadata": {},
   "source": [
    "    2.1 Binary Search  \n",
    "    2.2 Merge sort  \n",
    "    2.3 Quick sort  \n",
    "    2.4 Algorithm for fast multiplication  \n",
    "    2.5 Strassen's matrix multiplication  \n",
    "    2.6 Closest pair of points  "
   ]
  },
  {
   "cell_type": "markdown",
   "metadata": {},
   "source": [
    "### 2.1 Binary Search "
   ]
  },
  {
   "cell_type": "code",
   "execution_count": 5,
   "metadata": {},
   "outputs": [
    {
     "name": "stdout",
     "output_type": "stream",
     "text": [
      "3\n"
     ]
    }
   ],
   "source": [
    "def binary_search(arr, start, end, key):\n",
    "    while start <= end:\n",
    "        mid = int(start + (end - start)/2)\n",
    "        if arr[mid] == key:\n",
    "            return mid\n",
    "        elif arr[mid] < key:\n",
    "            start = mid + 1\n",
    "        else:\n",
    "            end = mid - 1\n",
    "    return -1\n",
    "arr = [4, 6, 9, 13, 14, 18, 21, 24, 38]\n",
    "x = 13\n",
    "result = binary_search(arr, 0, len(arr)-1, x)\n",
    "print(result) # 3 is the position od the searched item"
   ]
  },
  {
   "cell_type": "markdown",
   "metadata": {},
   "source": [
    "Worst case needs log2n+1 time to process.  \n",
    "For example, if arr length n = 8, the output will be 3, meaning the number of searches required will be 4.  \n",
    "The algorthm needs 1 more search if the size is doubled  \n",
    "Hence, the worst-case time complexity of the binary search algorithm is $O(log n)$"
   ]
  },
  {
   "cell_type": "markdown",
   "metadata": {},
   "source": [
    "### 2.2 Merge Sort"
   ]
  },
  {
   "cell_type": "markdown",
   "metadata": {},
   "source": [
    "Merge sort is an algorithm for sorting a list of n natural numbers in increasing order.  \n",
    "   1. The given list of elements is divided iteratively into equal parts until each sublisy contains one element  \n",
    "   2. Merge the solutions in the conquer or merge step."
   ]
  },
  {
   "cell_type": "code",
   "execution_count": 6,
   "metadata": {},
   "outputs": [
    {
     "name": "stdout",
     "output_type": "stream",
     "text": [
      "[7, 11, 12, 13, 14, 16, 41, 61]\n"
     ]
    }
   ],
   "source": [
    "def merge_sort(unsorted_list):\n",
    "    if len(unsorted_list) == 1:\n",
    "        return unsorted_list\n",
    "    mid_point = int(len(unsorted_list)/2)\n",
    "    \n",
    "    # using mid_point, we divide the list into two sublists, first_half and second_half\n",
    "    first_half = unsorted_list[:mid_point]\n",
    "    second_half = unsorted_list[mid_point:]\n",
    "    \n",
    "    # a recursive call is made by passing the two sublists to the merge_sort function again\n",
    "    half_a = merge_sort(first_half)\n",
    "    half_b = merge_sort(second_half)\n",
    "    \n",
    "    # for the merge step, half_a and half_b are sorted\n",
    "    return merge(half_a, half_b)\n",
    "\n",
    "def merge(first_sublist, second_sublist):\n",
    "    # i and j variable are initialized to 0 and are used as pointers\n",
    "    # to tell us where we are in the two lists with respect to the merging process\n",
    "    i = j = 0\n",
    "    \n",
    "    # the final merged_list will contain the merged list\n",
    "    merged_list = []\n",
    "    \n",
    "    \n",
    "    # the while loop starts comparing the elements in first_sublist and second_sublist\n",
    "    # the if statement selects the smaller of the two, first_sublist[i] or second_sublist[j]\n",
    "    # and appends it to merged_list\n",
    "    # The i and j index is incremented to reflect where we are with the merging step\n",
    "    # the while loop stops when either sublist is empty\n",
    "    \n",
    "    while i < len(first_sublist) and j < len(second_sublist):\n",
    "        if first_sublist[i] < second_sublist[j]:\n",
    "            merged_list.append(first_sublist[i])\n",
    "            i += 1\n",
    "        else:\n",
    "            merged_list.append(second_sublist[j])\n",
    "            j += 1\n",
    "    \n",
    "    # There may be elements left behind in either first_sublist or second_sublist.\n",
    "    # This while loop make sure that those elements are added to merged_list before it returned\n",
    "    while i < len(first_sublist):\n",
    "        merged_list.append(first_sublist[i])\n",
    "        i += 1\n",
    "    while j < len(second_sublist):\n",
    "        merged_list.append(second_sublist[j])\n",
    "        j += 1\n",
    "    return merged_list\n",
    "\n",
    "a = [11, 12, 7, 41, 61, 13, 16, 14]\n",
    "print(merge_sort(a))"
   ]
  },
  {
   "cell_type": "markdown",
   "metadata": {},
   "source": [
    "The worst-case running time complexity of the merge sort will depend on the following steps:\n",
    "   1. The divide step will take a constant time since it just compute the midpoint. O(1)\n",
    "   2. In each iteration, we divide the list into half recursively, which will take O(log n)\n",
    "   3. The merge step merges all the n elements into the original array, which will take O(n)  \n",
    "   \n",
    "Hence, the merge sort algorithm has a runtime complexity of $O(n log n)$"
   ]
  },
  {
   "cell_type": "markdown",
   "metadata": {},
   "source": [
    "## 3. Dynamic Programing"
   ]
  },
  {
   "cell_type": "markdown",
   "metadata": {},
   "source": [
    "$Optimal$ $substructure$  \n",
    "   Given the problem, if the solution can be obtained by combining the solutions of its sub-problems,   \n",
    "   then the problem is said to have and optimal substructure.  \n",
    "   ith Fibonacci number from its series can be computed from (i-1)th and (i-2)th Fibonacci numbers   \n",
    "     \n",
    "$Overlapping$ $sub-problem$  \n",
    " If an algorithm has to repeatedly solve the same sub-problem again and again, then the problem has overlapping sub-problems.   \n",
    " fib(5) will have multiple time computations for fib(3) and fib(2)\n",
    " \n",
    "  "
   ]
  },
  {
   "cell_type": "markdown",
   "metadata": {},
   "source": [
    "### Calculating the Fibonacci series"
   ]
  },
  {
   "cell_type": "markdown",
   "metadata": {},
   "source": [
    "func(0) =1\n",
    "func(1) =1\n",
    "func(n) = func(n-1) + func(n-2) for n > 1"
   ]
  },
  {
   "cell_type": "code",
   "execution_count": 14,
   "metadata": {
    "scrolled": true
   },
   "outputs": [
    {
     "name": "stdout",
     "output_type": "stream",
     "text": [
      "1\n",
      "1\n",
      "2\n",
      "3\n",
      "5\n"
     ]
    }
   ],
   "source": [
    "def fib(n):\n",
    "    if n <= 1:\n",
    "        #print(n)\n",
    "        return 1\n",
    "    else:\n",
    "        #print(n)\n",
    "        return fib(n-1) + fib(n-2)\n",
    "for i in range(5):\n",
    "    print(fib(i))"
   ]
  },
  {
   "cell_type": "markdown",
   "metadata": {},
   "source": [
    "In dynamic programming using the memoization technique,  \n",
    "we store the results of the computation of $fib(1)$ the first time it is encountered.  \n",
    "Similarity, we store return values for $fib(2)$ and $fib(3)$.  \n",
    "Later, whenever we encounter a call to $fib(1)$, $fib(2)$, or $fib(3)$,   \n",
    "we simply return their repective results"
   ]
  },
  {
   "cell_type": "code",
   "execution_count": 18,
   "metadata": {},
   "outputs": [
    {
     "name": "stdout",
     "output_type": "stream",
     "text": [
      "0\n",
      "1\n",
      "1\n",
      "2\n",
      "3\n",
      "5\n"
     ]
    }
   ],
   "source": [
    "def dyna_fib(n):\n",
    "    if n == 0:\n",
    "        return 0\n",
    "    if n == 1:\n",
    "        return 1\n",
    "    \n",
    "    # first check whether the Fibonacci of any number is already computed\n",
    "    # if it is already computed, then we return the stored value from the lookup[n]\n",
    "    if lookup[n] is not None:\n",
    "        return lookup[n]\n",
    "    \n",
    "    # store the solution of the sub-problem in the lookup list\n",
    "    lookup[n]  = dyna_fib(n-1) + dyna_fib(n-2)\n",
    "    \n",
    "    return lookup[n]\n",
    "\n",
    "# in order to store a list of 1,000 elements, we create a list lookup\n",
    "lookup = [None]*(1000)\n",
    "    \n",
    "for i in range(6):\n",
    "    print(dyna_fib(i))"
   ]
  },
  {
   "cell_type": "markdown",
   "metadata": {},
   "source": [
    "Dynamic programming improves the running time complexity of the algorithm.  \n",
    "In the recursive approach, for every value, two functions are called;  \n",
    "for example, $fib(5)$ calls $fib(4)$ and $fib(3)$.  \n",
    "Thus, the time complexity for the recursive approach is $O(2^n)$  \n",
    "\n",
    "whereas, in the dynamic programming approach, we do not recompute the sub-problems,  \n",
    "so for $fib(n)$, we have $n$ total values to be computed, in other words,  \n",
    "$fib(0)$, $fib(1)$, $fib(2)$ ... $fib(n)$. Thus, we only solve these values once,  \n",
    "so the total running time complexity is $O(n)$"
   ]
  },
  {
   "cell_type": "markdown",
   "metadata": {},
   "source": [
    "## 4. Greedy algorithms"
   ]
  },
  {
   "cell_type": "markdown",
   "metadata": {},
   "source": [
    "$local$ $optimimal$  \n",
    "    typical cases:  \n",
    "    Kruskasl's minimal spanning tree   \n",
    "    Dijkstra's shortest path problem  \n",
    "    The Knapsack problem  \n",
    "    Prim's minimal spanning tree algorithm  \n",
    "    The traveling salesperson problem \n",
    "    "
   ]
  },
  {
   "cell_type": "markdown",
   "metadata": {},
   "source": [
    "### Shortest path problem"
   ]
  },
  {
   "cell_type": "markdown",
   "metadata": {},
   "source": [
    "The shortest path problem requires us to find out the shortest possible route between nodes on a graph.  \n",
    "Dijkstra's algorithm works for weighted directed and undirected graphs. The algorithm produces the output of a list of the shortest path from a given source node, A, in a weighted graph.   \n",
    "\n",
    "\n",
    "    1. Mark all the nodes as unvisited, and set their distance from the given source node to infinity(the source node is set to zero)\n",
    "    2. Set the source node as the current one.\n",
    "    3. For the current node, look for all the unvisited adjacent nodes, and compute the distance to that node from the source node through the current node. Compare the newly computed distance to the currently assigned distance, and if it is smaller, set this as the new value.\n",
    "    4. Once we have considered all the unvisited adjacent nodes of the current node, we mark it as visited.\n",
    "    5. If the destination node has been marked visited, or if the list of unvisited node is empty, meaning we have considered all the unvisited nodes, then the algorithm is finished.\n",
    "    6. We next consider the next unvisited node that has the shortest distance from the source node.\n",
    "    7.Repeat steps 2 to 6.\n",
    "    "
   ]
  },
  {
   "cell_type": "code",
   "execution_count": 26,
   "metadata": {},
   "outputs": [],
   "source": [
    "# The adjacent list for the diagram and table\n",
    "# find the shortest distance between A and D\n",
    "graph = dict()\n",
    "graph['A'] = {'B':5, 'D':9, 'E':2}\n",
    "graph['B'] = {'A':5, 'c':2}\n",
    "graph['C'] = {'B':2, 'D':3}\n",
    "graph['D'] = {'A':9, 'C':3, 'F':2}\n",
    "graph['E'] = {'A':2, 'F':3}\n",
    "graph['F'] = {'E':3, 'D':2}"
   ]
  },
  {
   "cell_type": "markdown",
   "metadata": {},
   "source": [
    "When the algorithm strats, the shortest distance from the given source node **A** to any of the node is unknown. Thus, we initially set the distance to all other nodes to infinity, with the exception of node **A**, a the distance from node **A** to node **A** is **0**.  \n"
   ]
  },
  {
   "cell_type": "markdown",
   "metadata": {},
   "source": [
    "![Dijkstra](figures/Dijkstra.png)"
   ]
  },
  {
   "cell_type": "markdown",
   "metadata": {},
   "source": [
    "|  Node   | Shortest distance from source code  | Previous node |\n",
    "|  ----  | :----  | ---- |\n",
    "| A  | 0 | None |\n",
    "| B  | $\\infty$ | None |\n",
    "| C  | $\\infty$ | None |\n",
    "| D  | $\\infty$ | None |\n",
    "| E  | $\\infty$ | None |\n",
    "| F  | $\\infty$ | None |"
   ]
  },
  {
   "cell_type": "markdown",
   "metadata": {},
   "source": [
    "In *step 1*, we strat by examing the adjacent nodes to node **A**. To find the shortest distance from node **A** to node **B**, we need to find the distance from the start node to the prevoius node of node **B**, which happens to be **A**, and add it to the distance from node **A** to node **B**. We do this for the other ajacent nodes of **A**, these being **B**, **E**, and **D**. "
   ]
  },
  {
   "cell_type": "markdown",
   "metadata": {},
   "source": [
    "![Dijkstra1](figures/Dijkstra1.png)"
   ]
  },
  {
   "cell_type": "markdown",
   "metadata": {},
   "source": [
    "|  Node   | Shortest distance from source code  | Previous node |\n",
    "|  :----  | :----  | ---- |\n",
    "| A*  | 0 | None |\n",
    "| B  | 5 | A |\n",
    "| C  | $\\infty$ | None |\n",
    "| D  | 9 | A |\n",
    "| E  | 2 | A |\n",
    "| F  | $\\infty$ | None |"
   ]
  },
  {
   "cell_type": "markdown",
   "metadata": {},
   "source": [
    "In the second step, we find the node with the shortest. Node **E**, with its value of 2, has the shortest distance. To reach node **E**, we must visit node **A** and cover a distance of 2."
   ]
  },
  {
   "cell_type": "markdown",
   "metadata": {},
   "source": [
    "![Dijkstra2](figures/Dijkstra2.png)"
   ]
  },
  {
   "cell_type": "markdown",
   "metadata": {},
   "source": [
    "|  Node   | Shortest distance from source code  | Previous node |\n",
    "|  :----  | :----  | ---- |\n",
    "| A*  | 0 | None |\n",
    "| B  | 5 | A |\n",
    "| C  | $\\infty$ | None |\n",
    "| D  | 9 | A |\n",
    "| E*  | 2 | A |\n",
    "| F  | 5 | E |"
   ]
  },
  {
   "cell_type": "markdown",
   "metadata": {},
   "source": [
    "After visiting node **E**, we find the smallest value in the Shortest distance column, which is 5 for nodes **B** and **F**.   \n",
    "\n",
    "Let's choose **B** instead of **F** for alphabetical reasons. The adjacent nodes of **B** are nodes **A** and **C**. Since node **A** has already been visited. Using the rule we established eariler, the shortest distance from **A** to **C** is 7, which is computated as the distance fromm the starting node **B**, which is 5, while the distance from node **B** to **C** is 2. Since 7 is less than infinity, we update the shortest distance to 7 and update the previous node column with node **B**.\n",
    "\n",
    "Now, **B** is also marked as visited."
   ]
  },
  {
   "cell_type": "markdown",
   "metadata": {},
   "source": [
    "![Dijkstra3](figures/Dijkstra3.png)"
   ]
  },
  {
   "cell_type": "markdown",
   "metadata": {},
   "source": [
    "|  Node   | Shortest distance from source code  | Previous node |\n",
    "|  :----  | :----  | ---- |\n",
    "| A*  | 0 | None |\n",
    "| B*  | 5 | A |\n",
    "| C  | 7 | B |\n",
    "| D  | 9 | A |\n",
    "| E*  | 2 | A |\n",
    "| F  | 5 | E |"
   ]
  },
  {
   "cell_type": "markdown",
   "metadata": {},
   "source": [
    "\n",
    "The node with the shortest distance yet unvisited is node **F**. The adjacent nodes to **F** are nodes **D** and **E**. Since node **E** has aleady been visited, we will focus on node **D**. To find the shortest distance from the starting node to node **D**, we calculate this distance by adding the distance from nodes **A** to **F** to the distance from nodes **F** to **D**. This totals 7, which is less than **9**. Thus, we update the **9** with **7** and replace **A** with **F** in node **D**'s previous node column. "
   ]
  },
  {
   "cell_type": "markdown",
   "metadata": {},
   "source": [
    "![Dijkstra4](figures/Dijkstra4.png)"
   ]
  },
  {
   "cell_type": "markdown",
   "metadata": {},
   "source": [
    "|  Node   | Shortest distance from source code  | Previous node |\n",
    "|  :----  | :----  | ---- |\n",
    "| A*  | 0 | None |\n",
    "| B*  | 5 | A |\n",
    "| C  | 7 | B |\n",
    "| D  | 7 | F |\n",
    "| E*  | 2 | A |\n",
    "| F*  | 5 | E |"
   ]
  },
  {
   "cell_type": "markdown",
   "metadata": {},
   "source": [
    "Now, only two unvisited nodes are left, **C** and **D**, both with a distance cost of 7. In alphabetical order, we choose to consider node **C**.   \n",
    "However, all the adjacent nodes to **C** have been visited. Thus, we have nothing to do but mark node **C** as visited.   "
   ]
  },
  {
   "cell_type": "markdown",
   "metadata": {},
   "source": [
    "![Dijkstra5](figures/Dijkstra5.png)"
   ]
  },
  {
   "cell_type": "markdown",
   "metadata": {},
   "source": [
    "Lastly, we take node **D** and find out that all its adjacent nodes have been visited too. We only mark it as visited."
   ]
  },
  {
   "cell_type": "markdown",
   "metadata": {},
   "source": [
    "![Dijkstra6](figures/Dijkstra6.png)"
   ]
  },
  {
   "cell_type": "markdown",
   "metadata": {},
   "source": [
    "|  Node   | Shortest distance from source code  | Previous node |\n",
    "|  :----  | :----  | ---- |\n",
    "| A*  | 0 | None |\n",
    "| B*  | 5 | A |\n",
    "| C*  | 7 | B |\n",
    "| D*  | 7 | F |\n",
    "| E*  | 2 | A |\n",
    "| F*  | 5 | E |"
   ]
  },
  {
   "cell_type": "markdown",
   "metadata": {},
   "source": [
    "Let's verify the table above with our initial graph. From the graph, we know that the shortest distance from **A** to **F** is 5.   \n",
    "\n",
    "According to the table, the shortest distance from the source column for node **F** is 5. This is true. It also tell us that to get to node **F**, we need to visit node **E**, and from node **E**, to node **A**, which is our starting node. This is actually the shortest path from node **A** to node **F**."
   ]
  },
  {
   "cell_type": "code",
   "execution_count": 59,
   "metadata": {},
   "outputs": [],
   "source": [
    "# code for Dijkstra algorithm\n",
    "graph = dict()\n",
    "graph['A'] = {'B':5, 'D':9, 'E':2}\n",
    "graph['B'] = {'A':5, 'C':2}\n",
    "graph['C'] = {'B':2, 'D':3}\n",
    "graph['D'] = {'A':9, 'C':3, 'F':2}\n",
    "graph['E'] = {'A':2, 'F':3}\n",
    "graph['F'] = {'E':3, 'D':2}\n",
    "\n",
    "table = {\n",
    "    'A':[0, None],\n",
    "    'B':[float('inf'), None],\n",
    "    'C':[float('inf'), None],\n",
    "    'D':[float('inf'), None],\n",
    "    'E':[float('inf'), None],\n",
    "    'F':[float('inf'), None],\n",
    "}\n",
    "\n",
    "\n",
    "DISTANCE = 0 # the shortest path's column index\n",
    "PREVIOUS_NODE = 1 # the previous node column's index\n",
    "INFINITY = float('inf')\n",
    "\n",
    "def get_shortest_distance(table, vertex):\n",
    "    shortest_distance = table[vertex][DISTANCE]\n",
    "    return shortest_distance\n",
    "\n",
    "def set_shortest_distance(table, vertex, new_distance):\n",
    "    table[vertex][DISTANCE] = new_distance    \n",
    "\n",
    "def set_previous_node(table, vertex, previous_node):\n",
    "    table[vertex][PREVIOUS_NODE] = previous_node\n",
    "    \n",
    "def get_distance(graph, first_vertex, second_vertex):\n",
    "    return graph[first_vertex][second_vertex]\n",
    "\n",
    "def get_next_node(table, visited_nodes):\n",
    "    unvisited_nodes = list(set(table.keys()).difference(set(visited_nodes)))\n",
    "    assumed_min = table[unvisited_nodes[0]][DISTANCE]\n",
    "    min_vertex = unvisited_nodes[0]\n",
    "    for node in unvisited_nodes:\n",
    "        if table[node][DISTANCE] < assumed_min:\n",
    "            assumed_min = table[node][DISTANCE]\n",
    "            min_vertex = node\n",
    "    return min_vertex\n",
    "    "
   ]
  },
  {
   "cell_type": "code",
   "execution_count": 66,
   "metadata": {},
   "outputs": [],
   "source": [
    "def find_shortest_path(graph, table, origin):\n",
    "    visited_nodes = []\n",
    "    current_node = origin\n",
    "    starting_node = origin\n",
    "    while True:\n",
    "        adjacent_nodes = graph[current_node]\n",
    "        if set(adjacent_nodes).issubset(set(visited_nodes)):\n",
    "            # Nothing here to do. All adjacent nodes have been visited\n",
    "            break\n",
    "        else:\n",
    "            unvisited_nodes = set(adjacent_nodes).difference(set(visited_nodes))\n",
    "            for vertex in unvisited_nodes:\n",
    "                distance_from_starting_node = get_shortest_distance(table, vertex)\n",
    "                if distance_from_starting_node == INFINITY and current_node == starting_node:\n",
    "                    total_distance = get_distance(graph, vertex, current_node)\n",
    "                else:\n",
    "                    total_distance = get_shortest_distance(table, current_node) + get_distance(graph, current_node, vertex)\n",
    "                if total_distance < distance_from_starting_node:\n",
    "                    set_shortest_distance(table, vertex, total_distance)\n",
    "                    set_previous_node(table, vertex, current_node)\n",
    "            visited_nodes.append(current_node)\n",
    "            current_node = get_next_node(table, visited_nodes)\n",
    "    return table\n",
    "                "
   ]
  },
  {
   "cell_type": "code",
   "execution_count": 72,
   "metadata": {},
   "outputs": [
    {
     "name": "stdout",
     "output_type": "stream",
     "text": [
      "A - [0, None]\n",
      "B - [5, 'A']\n",
      "C - [7, 'B']\n",
      "D - [7, 'F']\n",
      "E - [2, 'A']\n",
      "F - [5, 'E']\n"
     ]
    }
   ],
   "source": [
    "shortest_distance_table = find_shortest_path(graph, table, 'A')\n",
    "for k in sorted(shortest_distance_table):\n",
    "    #print(shortest_distance_table[k])\n",
    "    print(\"{} - {}\".format(k, shortest_distance_table[k]))\n",
    "              "
   ]
  },
  {
   "cell_type": "markdown",
   "metadata": {},
   "source": [
    "The running time complexity of Dijkstra’s algorithm depends on how the vertices are stored and retrieved. Generally, the min-priority queue is used to store the vertices of the graph, thus, the time complexity of Dijkstra’s algorithm depends on how the min-priority queue is implemented.  \n",
    "\n",
    "In the first case, the vertices are stored numbered from 1 to |V| in an array. Here, each operation for searching a vertex from the entire array will take O(V) time, making the total time complexity O(V2 V2 + E) = O(V2). Furthermore, if the min-priority queue is implemented using the Fibonacci heap, the time taken for each iteration of the loop and extracting the minimum node will take O(|V|) time. Further, iterating over all the vertices’ adjacent nodes and updating the shortest distance takes O(|E|) time, and each priority value update takes O(log|V|) time, which makes O(|E| + log|V|). Thus, the total running time complexity of the algorithm becomes O(|E| + |V|log |V|), where |V| is the number of vertices and |E| is the number of edges.”\n",
    "\n",
    "Excerpt From: Dr. Basant Agarwal. “Hands-On Data Structures and Algorithms with Python, Third Edition.” Apple Books. "
   ]
  }
 ],
 "metadata": {
  "kernelspec": {
   "display_name": "Python 3",
   "language": "python",
   "name": "python3"
  },
  "language_info": {
   "codemirror_mode": {
    "name": "ipython",
    "version": 3
   },
   "file_extension": ".py",
   "mimetype": "text/x-python",
   "name": "python",
   "nbconvert_exporter": "python",
   "pygments_lexer": "ipython3",
   "version": "3.8.5"
  }
 },
 "nbformat": 4,
 "nbformat_minor": 4
}
