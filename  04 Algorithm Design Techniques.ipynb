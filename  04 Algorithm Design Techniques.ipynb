{
 "cells": [
  {
   "cell_type": "markdown",
   "metadata": {},
   "source": [
    "# Algorithm Design Techniques"
   ]
  },
  {
   "cell_type": "markdown",
   "metadata": {},
   "source": [
    "## 1. Recursion"
   ]
  },
  {
   "cell_type": "code",
   "execution_count": 2,
   "metadata": {},
   "outputs": [
    {
     "name": "stdout",
     "output_type": "stream",
     "text": [
      "24\n"
     ]
    }
   ],
   "source": [
    "def factorial(n):\n",
    "    # test for a base case\n",
    "    if n == 0:\n",
    "        return 1\n",
    "    else:\n",
    "    # make a calculation and a recursive call\n",
    "        return n*factorial(n-1)\n",
    "print(factorial(4))"
   ]
  },
  {
   "cell_type": "markdown",
   "metadata": {},
   "source": [
    "## 2. Divide and conquer"
   ]
  },
  {
   "cell_type": "markdown",
   "metadata": {},
   "source": [
    "    2.1 Binary Search  \n",
    "    2.2 Merge sort  \n",
    "    2.3 Quick sort  \n",
    "    2.4 Algorithm for fast multiplication  \n",
    "    2.5 Strassen's matrix multiplication  \n",
    "    2.6 Closest pair of points  "
   ]
  },
  {
   "cell_type": "markdown",
   "metadata": {},
   "source": [
    "### 2.1 Binary Search "
   ]
  },
  {
   "cell_type": "code",
   "execution_count": 5,
   "metadata": {},
   "outputs": [
    {
     "name": "stdout",
     "output_type": "stream",
     "text": [
      "3\n"
     ]
    }
   ],
   "source": [
    "def binary_search(arr, start, end, key):\n",
    "    while start <= end:\n",
    "        mid = int(start + (end - start)/2)\n",
    "        if arr[mid] == key:\n",
    "            return mid\n",
    "        elif arr[mid] < key:\n",
    "            start = mid + 1\n",
    "        else:\n",
    "            end = mid - 1\n",
    "    return -1\n",
    "arr = [4, 6, 9, 13, 14, 18, 21, 24, 38]\n",
    "x = 13\n",
    "result = binary_search(arr, 0, len(arr)-1, x)\n",
    "print(result) # 3 is the position od the searched item"
   ]
  },
  {
   "cell_type": "markdown",
   "metadata": {},
   "source": [
    "worst case needs log2n+1 time to process.  \n",
    "for example, if arr length n = 8, the output will be 3, meaning the number of searches required will be 4.  \n",
    "The algorthm needs 1 more search if the size is doubled  \n",
    "worstcase time complexity of the binary search algorithm is $O(log n)$"
   ]
  },
  {
   "cell_type": "markdown",
   "metadata": {},
   "source": [
    "### 2.2 Merge Sort"
   ]
  },
  {
   "cell_type": "markdown",
   "metadata": {},
   "source": [
    "Merge sort is an algorithm for sorting a list of n natural numbers in increasing order.  \n",
    "   1. The given list of elements is divided iteratively into equal parts until each sublisy contains one element  \n",
    "   2. Merge the solutions in the conquer or merge step."
   ]
  },
  {
   "cell_type": "code",
   "execution_count": 6,
   "metadata": {},
   "outputs": [
    {
     "name": "stdout",
     "output_type": "stream",
     "text": [
      "[7, 11, 12, 13, 14, 16, 41, 61]\n"
     ]
    }
   ],
   "source": [
    "def merge_sort(unsorted_list):\n",
    "    if len(unsorted_list) == 1:\n",
    "        return unsorted_list\n",
    "    mid_point = int(len(unsorted_list)/2)\n",
    "    \n",
    "    # using mid_point, we divide the list into two sublists, first_half and second_half\n",
    "    first_half = unsorted_list[:mid_point]\n",
    "    second_half = unsorted_list[mid_point:]\n",
    "    \n",
    "    # a recursive call is made by passing the two sublists to the merge_sort function again\n",
    "    half_a = merge_sort(first_half)\n",
    "    half_b = merge_sort(second_half)\n",
    "    \n",
    "    # for the merge step, half_a and half_b are sorted\n",
    "    return merge(half_a, half_b)\n",
    "\n",
    "def merge(first_sublist, second_sublist):\n",
    "    # i and j variable are initialized to 0 and are used as pointers\n",
    "    # to tell us where we are in the two lists with respect to the merging process\n",
    "    i = j = 0\n",
    "    \n",
    "    # the final merged_list will contain the merged list\n",
    "    merged_list = []\n",
    "    \n",
    "    \n",
    "    # the while loop starts comparing the elements in first_sublist and second_sublist\n",
    "    # the if statement selects the smaller of the two, first_sublist[i] or second_sublist[j]\n",
    "    # and appends it to merged_list\n",
    "    # The i and j index is incremented to reflect where we are with the merging step\n",
    "    # the while loop stops when either sublist is empty\n",
    "    \n",
    "    while i < len(first_sublist) and j < len(second_sublist):\n",
    "        if first_sublist[i] < second_sublist[j]:\n",
    "            merged_list.append(first_sublist[i])\n",
    "            i += 1\n",
    "        else:\n",
    "            merged_list.append(second_sublist[j])\n",
    "            j += 1\n",
    "    \n",
    "    # There may be elements left behind in either first_sublist or second_sublist.\n",
    "    # This while loop make sure that those elements are added to merged_list before it returned\n",
    "    while i < len(first_sublist):\n",
    "        merged_list.append(first_sublist[i])\n",
    "        i += 1\n",
    "    while j < len(second_sublist):\n",
    "        merged_list.append(second_sublist[j])\n",
    "        j += 1\n",
    "    return merged_list\n",
    "\n",
    "a = [11, 12, 7, 41, 61, 13, 16, 14]\n",
    "print(merge_sort(a))"
   ]
  },
  {
   "cell_type": "markdown",
   "metadata": {},
   "source": [
    "The worst-case running time complexity of the merge sort will depend on the following steps:\n",
    "   1. The divide step will take a constant time since it just compute the midpoint. O(1)\n",
    "   2. In each iteration, we divide the list into half recursively, which will take O(log n)\n",
    "   3. The merge step merges all the n elements into the original array, which will take O(n)  \n",
    "   \n",
    "Hence, the merge sort algorithm has a runtime complexity of $O(n log n)$"
   ]
  },
  {
   "cell_type": "code",
   "execution_count": null,
   "metadata": {},
   "outputs": [],
   "source": []
  }
 ],
 "metadata": {
  "kernelspec": {
   "display_name": "Python 3",
   "language": "python",
   "name": "python3"
  },
  "language_info": {
   "codemirror_mode": {
    "name": "ipython",
    "version": 3
   },
   "file_extension": ".py",
   "mimetype": "text/x-python",
   "name": "python",
   "nbconvert_exporter": "python",
   "pygments_lexer": "ipython3",
   "version": "3.8.5"
  }
 },
 "nbformat": 4,
 "nbformat_minor": 4
}
