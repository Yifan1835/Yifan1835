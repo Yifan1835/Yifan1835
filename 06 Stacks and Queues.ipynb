{
 "cells": [
  {
   "cell_type": "markdown",
   "metadata": {},
   "source": [
    "# 06 Stacks and Queues"
   ]
  },
  {
   "cell_type": "markdown",
   "metadata": {},
   "source": [
    "## Stacks"
   ]
  },
  {
   "cell_type": "markdown",
   "metadata": {},
   "source": [
    "A stack is a data structure that stores data, similar to a stack of plates in a kitchen. You can put a plate on the top of the stack, and when you need a stack, you take it from the top of the stack. \n",
    "\n",
    "The last plate that was added to the stack will be the first to be picked up from the stack. \n",
    "\n",
    "    Data elements in a stack can only be inserted at the end ( `push` operation)\n",
    "    Data elements in a stack can only be deleted from the end (`pop` operation)\n",
    "    Only the last element can be read from the stack (`peek` operation)\n",
    "    \n",
    "A stack is **last in first out(LIFO)**"
   ]
  },
  {
   "cell_type": "markdown",
   "metadata": {},
   "source": [
    "## Stack implementation using arrays"
   ]
  },
  {
   "cell_type": "code",
   "execution_count": 11,
   "metadata": {},
   "outputs": [],
   "source": [
    "size = 3\n",
    "data  = [0]*(size) # Initialize the stack\n",
    "top = -1\n",
    "def push(x):\n",
    "    global top\n",
    "    if top >= size - 1:\n",
    "        print(\"Stack Overflow\")\n",
    "    else:\n",
    "        top = top + 1\n",
    "        data[top] = x"
   ]
  },
  {
   "cell_type": "code",
   "execution_count": 12,
   "metadata": {},
   "outputs": [
    {
     "name": "stdout",
     "output_type": "stream",
     "text": [
      "['egg', 'ham', 'spam']\n",
      "Stack Overflow\n",
      "Stack Overflow\n"
     ]
    }
   ],
   "source": [
    "push('egg')\n",
    "push('ham')\n",
    "push('spam')\n",
    "print(data[0: top + 1])\n",
    "push('new')\n",
    "push('new2')"
   ]
  },
  {
   "cell_type": "code",
   "execution_count": 8,
   "metadata": {},
   "outputs": [],
   "source": [
    "def pop():\n",
    "    global top\n",
    "    if top == -1:\n",
    "        print('Stack Underflow')\n",
    "    else:\n",
    "        top = top -1\n",
    "        data[top] = 0\n",
    "        return data[top+1]\n"
   ]
  },
  {
   "cell_type": "code",
   "execution_count": 13,
   "metadata": {},
   "outputs": [
    {
     "name": "stdout",
     "output_type": "stream",
     "text": [
      "['egg', 'ham', 'spam']\n",
      "Stack Underflow\n",
      "[]\n"
     ]
    }
   ],
   "source": [
    "print(data[0 : top + 1])\n",
    "pop()\n",
    "pop()\n",
    "pop()\n",
    "pop()\n",
    "print(data[0 : top + 1])"
   ]
  },
  {
   "cell_type": "code",
   "execution_count": 15,
   "metadata": {},
   "outputs": [],
   "source": [
    "def peek():\n",
    "    global top\n",
    "    if top ==  -1:\n",
    "        print('Stack is empty')\n",
    "    else:\n",
    "        print(data[top])"
   ]
  },
  {
   "cell_type": "markdown",
   "metadata": {},
   "source": [
    "## Stack implementation using linked lists"
   ]
  },
  {
   "cell_type": "code",
   "execution_count": 29,
   "metadata": {},
   "outputs": [],
   "source": [
    "class Node:\n",
    "    def __init__(self, data = None):\n",
    "        self.data = data\n",
    "        self.next = None"
   ]
  },
  {
   "cell_type": "code",
   "execution_count": 27,
   "metadata": {},
   "outputs": [],
   "source": [
    "class Stack:\n",
    "    def __init__(self):\n",
    "        self.top = None\n",
    "        self.size = 0\n",
    "    def push(self, data):\n",
    "        # create a new node\n",
    "        node = Node(data)\n",
    "        if self.top:\n",
    "            node.next = self.top\n",
    "            self.top = node\n",
    "        else:\n",
    "            self.top = node\n",
    "        self.size += 1"
   ]
  },
  {
   "cell_type": "code",
   "execution_count": 30,
   "metadata": {},
   "outputs": [
    {
     "name": "stdout",
     "output_type": "stream",
     "text": [
      "spam\n",
      "ham\n",
      "egg\n"
     ]
    }
   ],
   "source": [
    "words = Stack()\n",
    "words.push('egg')\n",
    "words.push('ham')\n",
    "words.push('spam')\n",
    "# print the stack element.\n",
    "current = words.top\n",
    "while current:\n",
    "    print(current.data)\n",
    "    current = current.next"
   ]
  },
  {
   "cell_type": "code",
   "execution_count": null,
   "metadata": {},
   "outputs": [],
   "source": [
    "# skip for today 2022.10.29"
   ]
  }
 ],
 "metadata": {
  "kernelspec": {
   "display_name": "Python 3",
   "language": "python",
   "name": "python3"
  },
  "language_info": {
   "codemirror_mode": {
    "name": "ipython",
    "version": 3
   },
   "file_extension": ".py",
   "mimetype": "text/x-python",
   "name": "python",
   "nbconvert_exporter": "python",
   "pygments_lexer": "ipython3",
   "version": "3.8.5"
  }
 },
 "nbformat": 4,
 "nbformat_minor": 4
}
