{
 "cells": [
  {
   "cell_type": "markdown",
   "metadata": {},
   "source": [
    "## Overview of data types and objects"
   ]
  },
  {
   "cell_type": "code",
   "execution_count": 1,
   "metadata": {},
   "outputs": [],
   "source": [
    "p = 'Hello China'\n",
    "q = 10\n",
    "r = 10.2"
   ]
  },
  {
   "cell_type": "markdown",
   "metadata": {},
   "source": [
    "print(type(p))\n",
    "print(type(q))\n",
    "print(type(r))\n",
    "print(type(12+31j))"
   ]
  },
  {
   "cell_type": "markdown",
   "metadata": {},
   "source": [
    "$sequence Types: String, range, list, tuple$   \n",
    "float: up to $15$ decimal points  \n",
    "Boolean: True or False (note the spelling)\n",
    "bool() zero is false, non-zero is regarded as True"
   ]
  },
  {
   "cell_type": "code",
   "execution_count": 6,
   "metadata": {},
   "outputs": [
    {
     "name": "stdout",
     "output_type": "stream",
     "text": [
      "False\n",
      "True\n"
     ]
    }
   ],
   "source": [
    "print(bool(0))\n",
    "print(bool(2.45))"
   ]
  },
  {
   "cell_type": "markdown",
   "metadata": {},
   "source": [
    "string can be concatenated using +  \n",
    "or muliplied by *"
   ]
  },
  {
   "cell_type": "code",
   "execution_count": 7,
   "metadata": {},
   "outputs": [
    {
     "name": "stdout",
     "output_type": "stream",
     "text": [
      "data.data.data.\n"
     ]
    }
   ],
   "source": [
    "st = 'data.'\n",
    "print(st * 3)"
   ]
  },
  {
   "cell_type": "markdown",
   "metadata": {},
   "source": [
    "range(start, stop, step) [0,10)"
   ]
  },
  {
   "cell_type": "code",
   "execution_count": 12,
   "metadata": {},
   "outputs": [
    {
     "name": "stdout",
     "output_type": "stream",
     "text": [
      "[0, 1, 2, 3, 4, 5, 6, 7, 8, 9]\n",
      "[0, 1, 2, 3, 4, 5, 6, 7, 8, 9]\n"
     ]
    }
   ],
   "source": [
    "print(list(range(10)))\n",
    "print(list(range(0,10,1)))"
   ]
  },
  {
   "cell_type": "code",
   "execution_count": 26,
   "metadata": {},
   "outputs": [
    {
     "name": "stdout",
     "output_type": "stream",
     "text": [
      "['bbc', 10, 'China', 10]\n",
      "10\n",
      "['bbc', 10]\n",
      "['bbc', 1, 'China', 120]\n",
      "['bbc', 1, 'China', 120, 'China']\n",
      "['bbc', 1, 'China', 120, 'China', 'bbc', 1, 'China', 120, 'China']\n",
      "True\n"
     ]
    }
   ],
   "source": [
    "# list\n",
    "a = ['bbc', 10, 'China', 10]\n",
    "print(a)\n",
    "print(a[1])\n",
    "# lists are ordered, dynamic, can be any arbitary set of objects, index\n",
    "print(a[0:2])\n",
    "a[1] = 1\n",
    "a[-1] = 120\n",
    "print(a)\n",
    "a.append('China')\n",
    "print(a)\n",
    "print(a *2)\n",
    "print('bbc' in a)"
   ]
  },
  {
   "cell_type": "markdown",
   "metadata": {},
   "source": [
    "==: equal  \n",
    "is: point to the same object"
   ]
  },
  {
   "cell_type": "markdown",
   "metadata": {},
   "source": [
    "### Tuples"
   ]
  },
  {
   "cell_type": "markdown",
   "metadata": {},
   "source": [
    "ordered/unchangable/immutable  \n",
    "used when we wish to store the data that should not be changed in the program  \n",
    "support + and *"
   ]
  },
  {
   "cell_type": "code",
   "execution_count": 38,
   "metadata": {},
   "outputs": [
    {
     "name": "stdout",
     "output_type": "stream",
     "text": [
      "(4, 5, 10, 20)\n",
      "(2, 1, 2, 1, 2, 1)\n",
      "3\n",
      "True\n",
      "6\n",
      "7\n",
      "8\n",
      "world\n",
      "world\n",
      "('world', 'china')\n"
     ]
    }
   ],
   "source": [
    "print((4,5)+(10,20)) # cat\n",
    "print((2,1)*3) # repetition\n",
    "print(len((4,5,'Hello'))) # length\n",
    "print(3 in (\"hi\", \"xyx\", 3)) # membership\n",
    "for p in (6, 7, 8):print(p) # iteration\n",
    "x = ('hello', 'world', 'china')\n",
    "print(x[1]) # zero-based indexing\n",
    "print(x[-2]) # negative\n",
    "print(x[1:]) # slice"
   ]
  },
  {
   "cell_type": "markdown",
   "metadata": {},
   "source": [
    "### Dictionaries"
   ]
  },
  {
   "cell_type": "markdown",
   "metadata": {},
   "source": [
    "unordered {key-value} pair;  \n",
    "key: hashable and immuatble  \n",
    "dictionary: mutable and dynamic"
   ]
  },
  {
   "cell_type": "code",
   "execution_count": 45,
   "metadata": {},
   "outputs": [
    {
     "name": "stdout",
     "output_type": "stream",
     "text": [
      "<class 'dict'>\n",
      "{'name': 'ABC', 'lastname': 'XYZ', 'age': 31, 'address': ['Zhejiang']}\n",
      "ABC\n",
      "True\n",
      "True\n",
      "4\n"
     ]
    }
   ],
   "source": [
    "person = {} # create\n",
    "print(type(person))\n",
    "person['name'] = 'ABC' \n",
    "person['lastname'] = 'XYZ'\n",
    "person['age'] = 31\n",
    "person['address'] = ['Zhejiang']\n",
    "print(person)\n",
    "print(person['name'])\n",
    "print('name' in person) # in and not in operators for $$key$$\n",
    "print('fname' not in person)\n",
    "print(len(person)) # length"
   ]
  },
  {
   "cell_type": "code",
   "execution_count": 63,
   "metadata": {},
   "outputs": [
    {
     "name": "stdout",
     "output_type": "stream",
     "text": [
      "{'a': 1, 'b': 2, 'c': 3}\n",
      "{}\n",
      "2\n",
      "None\n",
      "[('a', 1), ('b', 2), ('c', 3)]\n",
      "['a', 'b', 'c']\n",
      "dict_keys(['a', 'b', 'c'])\n",
      "[1, 2, 3]\n",
      "2\n",
      "{'a': 1, 'c': 3}\n",
      "('c', 3)\n",
      "{'a': 1, 'b': 2}\n",
      "None\n",
      "{'a': 10, 'b': 200, 'c': 30, 'd': 400}\n",
      "{'b': 200, 'd': 400}\n"
     ]
    }
   ],
   "source": [
    "# mydict.clear()\n",
    "mydict = {'a':1, 'b':2, 'c':3 }\n",
    "print(mydict)\n",
    "mydict.clear() \n",
    "print(mydict)\n",
    "# mydict.get()\n",
    "mydict = {'a':1, 'b':2, 'c':3 }\n",
    "print(mydict.get('b'))\n",
    "print(mydict.get('z')) # return 'None'\n",
    "# mydict.items()\n",
    "print(list(mydict.items()))\n",
    "# mydict.keys()\n",
    "print(list(mydict.keys()))\n",
    "print(mydict.keys())\n",
    "# mydict.values()\n",
    "print(list(mydict.values()))\n",
    "# mydict.pop()\n",
    "print(mydict.pop('b'))\n",
    "print(mydict)\n",
    "# mydict.popitem() remove the last key-value pair\n",
    "mydict = {'a':1, 'b':2, 'c':3 }\n",
    "print(mydict.popitem())\n",
    "print(mydict)\n",
    "# mydict.update(<obj>)\n",
    "d1 = {'a':10, 'b':20, 'c':30 }\n",
    "d2 = {'b':200, 'd':400}\n",
    "print(d1.update(d2)) # return None\n",
    "print(d1) # d1 get updated \n",
    "print(d2)"
   ]
  },
  {
   "cell_type": "markdown",
   "metadata": {},
   "source": [
    "### Sets"
   ]
  },
  {
   "cell_type": "markdown",
   "metadata": {},
   "source": [
    "unordered; unique; hashable; iterable; mutable"
   ]
  },
  {
   "cell_type": "code",
   "execution_count": 77,
   "metadata": {},
   "outputs": [
    {
     "name": "stdout",
     "output_type": "stream",
     "text": [
      "{'Python', 'and', 'structure', 'data'}\n",
      "<class 'set'>\n",
      "<class 'set'>\n",
      "{'c', 'Pythob', 'and', 'java', 'data', 'Python', 'structure'}\n",
      "{'c', 'Pythob', 'and', 'java', 'data', 'Python', 'structure'}\n",
      "{'Python'}\n",
      "{'Python'}\n",
      "{'and', 'structure', 'data'}\n",
      "{'and', 'structure', 'data'}\n",
      "{'c', 'Pythob', 'and', 'data', 'java', 'structure'}\n",
      "{'c', 'Pythob', 'and', 'data', 'java', 'structure'}\n",
      "False\n",
      "False\n"
     ]
    }
   ],
   "source": [
    "x1 = set(['and', 'Python', 'data', 'structure'])\n",
    "print(x1)\n",
    "print(type(x1))\n",
    "x2 = {'Pythob', 'Python', 'c', 'java'}\n",
    "print(type(x2))\n",
    "x3 = x1 | x2  # union |\n",
    "print(x3)\n",
    "print(x1.union(x2))\n",
    "x4 = x1 & x2 # intersection &\n",
    "print(x4)\n",
    "print(x1.intersection(x2))\n",
    "x5 = x1 - x2 # difference -\n",
    "print(x5)\n",
    "print(x1.difference(x2))\n",
    "x6 = x1 ^ x2 # symmetric_difference ^\n",
    "print(x6)\n",
    "print(x1.symmetric_difference(x2))\n",
    "# is subset <=\n",
    "print(x1.issubset(x2))\n",
    "print(x1 <= x2)"
   ]
  },
  {
   "cell_type": "markdown",
   "metadata": {},
   "source": [
    "### Frozenset"
   ]
  },
  {
   "cell_type": "code",
   "execution_count": 80,
   "metadata": {},
   "outputs": [
    {
     "name": "stdout",
     "output_type": "stream",
     "text": [
      "frozenset({'Python', 'and', 'structure', 'data'})\n",
      "{frozenset({'structure'}), frozenset({1}), frozenset({'data'})}\n"
     ]
    }
   ],
   "source": [
    "x = frozenset(['and', 'Python', 'data', 'structure'])\n",
    "print(x)\n",
    "a1 = frozenset(['data'])\n",
    "a2 = frozenset([1])\n",
    "a3 = frozenset(['structure'])\n",
    "x = {a1, a2, a3}\n",
    "print(x)"
   ]
  }
 ],
 "metadata": {
  "kernelspec": {
   "display_name": "Python 3",
   "language": "python",
   "name": "python3"
  },
  "language_info": {
   "codemirror_mode": {
    "name": "ipython",
    "version": 3
   },
   "file_extension": ".py",
   "mimetype": "text/x-python",
   "name": "python",
   "nbconvert_exporter": "python",
   "pygments_lexer": "ipython3",
   "version": "3.8.5"
  }
 },
 "nbformat": 4,
 "nbformat_minor": 4
}
